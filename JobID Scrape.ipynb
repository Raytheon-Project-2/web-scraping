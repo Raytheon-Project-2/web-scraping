{
 "cells": [
  {
   "cell_type": "code",
   "execution_count": null,
   "id": "5e52202c",
   "metadata": {},
   "outputs": [],
   "source": [
    "#extract information from each job posting and append it to a list \n",
    "\n",
    "from bs4 import BeautifulSoup\n",
    "from helium import *\n",
    "import time \n",
    "from datetime import date\n",
    "\n",
    "def scrape1():\n",
    "    url = 'https://www.usajobs.gov/?c=opportunities'\n",
    "    driver = start_chrome(url, headless = True)\n",
    "    driver.get(url)\n",
    "                   \n",
    "    html = driver.page_source\n",
    "    soup = BeautifulSoup(html, \"html.parser\")\n",
    "    hrefs_list = []\n",
    "    jobs_list = []\n",
    "    scrape_list = []\n",
    "    \n",
    "# get all hraf link for each job category\n",
    "    for link in soup.find_all(\"a\",{\"class\": \"usajobs-landing-find-opportunities__job\"}):\n",
    "        hrefs_list.append(link['href'])\n",
    "#open each category link in new browser\n",
    "    for term in hrefs_list:\n",
    "        new_url = 'https://www.usajobs.gov'+ term\n",
    "        driver = start_chrome(new_url, headless = True)\n",
    "        driver.get(new_url)\n",
    "        html = driver.page_source\n",
    "        soup = BeautifulSoup(html, \"html.parser\")\n",
    "#scrape each link for all job box        \n",
    "        job_link = soup.find_all(\"a\",{'class':'usajobs-search-result--card__body'})\n",
    "        \n",
    "#scrape each box for text information about the job (department, agency, and summary) and append to scrape list              \n",
    "        for job in job_link:\n",
    "        \n",
    "            data = [item.get(\"data-document-id\") for item in soup.find_all(\"a\")]\n",
    "            \n",
    "            dataID = list(filter(None, data))\n",
    "            \n",
    "            scrape_list.append((dataID))\n",
    "        \n",
    "    print(scrape_list)      \n",
    "\n",
    "scrape1()"
   ]
  }
 ],
 "metadata": {
  "kernelspec": {
   "display_name": "Python 3 (ipykernel)",
   "language": "python",
   "name": "python3"
  },
  "language_info": {
   "codemirror_mode": {
    "name": "ipython",
    "version": 3
   },
   "file_extension": ".py",
   "mimetype": "text/x-python",
   "name": "python",
   "nbconvert_exporter": "python",
   "pygments_lexer": "ipython3",
   "version": "3.8.11"
  }
 },
 "nbformat": 4,
 "nbformat_minor": 5
}
