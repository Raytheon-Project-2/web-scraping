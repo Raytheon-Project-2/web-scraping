{
 "cells": [
  {
   "cell_type": "code",
   "execution_count": 14,
   "id": "0ef17b69",
   "metadata": {},
   "outputs": [
    {
     "name": "stdout",
     "output_type": "stream",
     "text": [
      "https://www.fsd.gov/gsafsd_sp?id=kb_article_view&sysparm_article=KB0046482\n",
      "https://interact.gsa.gov/blog/help-resources-uei-transition-now-available-fsdgov\n",
      "https://www.fsd.gov/\n",
      "https://www.fsd.gov/gsafsd_sp?id=kb_article_view&sysparm_article=KB0047778\n",
      "https://www.fsd.gov/gsafsd_sp?id=kb_article_view&sysparm_article=KB0044736\n"
     ]
    }
   ],
   "source": [
    "from bs4 import BeautifulSoup\n",
    "import requests\n",
    "import time\n",
    "from selenium import webdriver\n",
    "from selenium.webdriver.common.keys import Keys\n",
    "\n",
    "def scrape():\n",
    "    # Set URL to scrape from\n",
    "    url = 'https://sam.gov/content/home'\n",
    "    path=r'C:\\Users\\lytoa\\Downloads\\program\\chromedriver.exe' # chrome driver install path\n",
    "    driver = webdriver.Chrome(executable_path=path) # web driver initialize\n",
    "    driver.get(url)\n",
    "\n",
    "    time.sleep(5)\n",
    "\n",
    "    html=driver.page_source\n",
    "    soup = BeautifulSoup(html, \"html.parser\")\n",
    "    announcments = soup.find(\"div\", {\"class\" : \"sds-feed\"})\n",
    "    article_links = []\n",
    "    for a in announcments.find_all('a', href=True):\n",
    "        article_links.append(a['href'])\n",
    "    for link in article_links:\n",
    "        print(link)\n",
    "    \n",
    "scrape()"
   ]
  },
  {
   "cell_type": "code",
   "execution_count": null,
   "id": "f4e45465",
   "metadata": {},
   "outputs": [],
   "source": []
  },
  {
   "cell_type": "code",
   "execution_count": null,
   "id": "ba3b0329",
   "metadata": {},
   "outputs": [],
   "source": []
  },
  {
   "cell_type": "code",
   "execution_count": null,
   "id": "0cb3941d",
   "metadata": {},
   "outputs": [],
   "source": []
  }
 ],
 "metadata": {
  "kernelspec": {
   "display_name": "Python 3 (ipykernel)",
   "language": "python",
   "name": "python3"
  },
  "language_info": {
   "codemirror_mode": {
    "name": "ipython",
    "version": 3
   },
   "file_extension": ".py",
   "mimetype": "text/x-python",
   "name": "python",
   "nbconvert_exporter": "python",
   "pygments_lexer": "ipython3",
   "version": "3.8.11"
  }
 },
 "nbformat": 4,
 "nbformat_minor": 5
}
